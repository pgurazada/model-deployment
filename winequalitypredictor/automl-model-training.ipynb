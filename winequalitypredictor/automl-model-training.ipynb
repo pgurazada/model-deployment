{
 "cells": [
  {
   "cell_type": "code",
   "execution_count": 1,
   "metadata": {},
   "outputs": [],
   "source": [
    "import pickle\n",
    "import pandas as pd\n",
    "\n",
    "from flaml import AutoML\n",
    "\n",
    "from sklearn.model_selection import train_test_split\n",
    "from sklearn.metrics import classification_report"
   ]
  },
  {
   "cell_type": "code",
   "execution_count": 2,
   "metadata": {},
   "outputs": [],
   "source": [
    "data = pd.read_csv('winequality-red.csv', sep=\";\")"
   ]
  },
  {
   "cell_type": "code",
   "execution_count": 3,
   "metadata": {},
   "outputs": [],
   "source": [
    "data.columns = [column.replace(\" \", \"_\") for column in data.columns.to_list()]"
   ]
  },
  {
   "cell_type": "code",
   "execution_count": 4,
   "metadata": {},
   "outputs": [],
   "source": [
    "X, y = data.drop(columns='quality'), data.quality"
   ]
  },
  {
   "cell_type": "code",
   "execution_count": 5,
   "metadata": {},
   "outputs": [],
   "source": [
    "Xtrain, Xtest, ytrain, ytest = train_test_split(X, y, \n",
    "                                                test_size=0.2, \n",
    "                                                random_state=20130810)"
   ]
  },
  {
   "cell_type": "code",
   "execution_count": 13,
   "metadata": {},
   "outputs": [],
   "source": [
    "AUTOML_SETTINGS = {\"time_budget\": 360,  # total running time in seconds\n",
    "                   \"metric\": 'micro_f1',  \n",
    "                   \"estimator_list\": ['lgbm'],  \n",
    "                   \"task\": 'classification',  # task type    \n",
    "                   \"log_file_name\": 'openmldata.log',  # flaml log file\n",
    "                   \"seed\": 20130810,    # random seed\n",
    "                   \"verbose\": 1\n",
    "}"
   ]
  },
  {
   "cell_type": "code",
   "execution_count": 14,
   "metadata": {},
   "outputs": [],
   "source": [
    "learner_automl = AutoML()"
   ]
  },
  {
   "cell_type": "code",
   "execution_count": 15,
   "metadata": {},
   "outputs": [],
   "source": [
    "learner_automl.fit(Xtrain, ytrain, **AUTOML_SETTINGS)"
   ]
  },
  {
   "cell_type": "code",
   "execution_count": 16,
   "metadata": {},
   "outputs": [
    {
     "name": "stdout",
     "output_type": "stream",
     "text": [
      "              precision    recall  f1-score   support\n",
      "\n",
      "           3       0.00      0.00      0.00         2\n",
      "           4       0.00      0.00      0.00         9\n",
      "           5       0.59      0.74      0.66       133\n",
      "           6       0.55      0.50      0.52       130\n",
      "           7       0.50      0.27      0.35        41\n",
      "           8       1.00      0.20      0.33         5\n",
      "\n",
      "    accuracy                           0.55       320\n",
      "   macro avg       0.44      0.29      0.31       320\n",
      "weighted avg       0.55      0.55      0.54       320\n",
      "\n"
     ]
    }
   ],
   "source": [
    "print(classification_report(ytest, learner_automl.predict(Xtest)))"
   ]
  },
  {
   "cell_type": "code",
   "execution_count": 17,
   "metadata": {},
   "outputs": [],
   "source": [
    "individual = (data.drop(columns='quality')\n",
    "                  .loc[0, :]\n",
    "                  .to_dict())"
   ]
  },
  {
   "cell_type": "code",
   "execution_count": 18,
   "metadata": {},
   "outputs": [
    {
     "data": {
      "text/plain": [
       "{'fixed_acidity': 7.4,\n",
       " 'volatile_acidity': 0.7,\n",
       " 'citric_acid': 0.0,\n",
       " 'residual_sugar': 1.9,\n",
       " 'chlorides': 0.076,\n",
       " 'free_sulfur_dioxide': 11.0,\n",
       " 'total_sulfur_dioxide': 34.0,\n",
       " 'density': 0.9978,\n",
       " 'pH': 3.51,\n",
       " 'sulphates': 0.56,\n",
       " 'alcohol': 9.4}"
      ]
     },
     "execution_count": 18,
     "metadata": {},
     "output_type": "execute_result"
    }
   ],
   "source": [
    "individual"
   ]
  },
  {
   "cell_type": "code",
   "execution_count": 24,
   "metadata": {},
   "outputs": [],
   "source": [
    "def predict_single(individual, model):\n",
    "    X = pd.DataFrame([individual])\n",
    "    y_pred = model.predict(X)\n",
    "    return y_pred[0]"
   ]
  },
  {
   "cell_type": "code",
   "execution_count": 25,
   "metadata": {},
   "outputs": [
    {
     "data": {
      "text/plain": [
       "5"
      ]
     },
     "execution_count": 25,
     "metadata": {},
     "output_type": "execute_result"
    }
   ],
   "source": [
    "predict_single(individual, learner_automl)"
   ]
  },
  {
   "cell_type": "code",
   "execution_count": 21,
   "metadata": {},
   "outputs": [],
   "source": [
    "with open('wine-quality-prediction-model.pkl', 'wb') as f_out:\n",
    "    pickle.dump(learner_automl, f_out, pickle.HIGHEST_PROTOCOL)"
   ]
  }
 ],
 "metadata": {
  "kernelspec": {
   "display_name": "Python 3.9.7 ('aimlclasses')",
   "language": "python",
   "name": "python3"
  },
  "language_info": {
   "codemirror_mode": {
    "name": "ipython",
    "version": 3
   },
   "file_extension": ".py",
   "mimetype": "text/x-python",
   "name": "python",
   "nbconvert_exporter": "python",
   "pygments_lexer": "ipython3",
   "version": "3.9.7"
  },
  "orig_nbformat": 4,
  "vscode": {
   "interpreter": {
    "hash": "3c1e73e333da691d1541ae9459c12b06f935e3cff125444867bb111cd49f9379"
   }
  }
 },
 "nbformat": 4,
 "nbformat_minor": 2
}
