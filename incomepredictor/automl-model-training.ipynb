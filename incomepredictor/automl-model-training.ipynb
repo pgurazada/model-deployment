{
 "cells": [
  {
   "cell_type": "code",
   "execution_count": 1,
   "metadata": {},
   "outputs": [],
   "source": [
    "import pickle\n",
    "import pandas as pd\n",
    "\n",
    "from sklearn.compose import ColumnTransformer, make_column_selector\n",
    "from sklearn.preprocessing import OneHotEncoder\n",
    "\n",
    "from flaml import AutoML\n",
    "\n",
    "from sklearn.model_selection import train_test_split\n",
    "from sklearn.metrics import classification_report"
   ]
  },
  {
   "cell_type": "code",
   "execution_count": 2,
   "metadata": {},
   "outputs": [],
   "source": [
    "data = pd.read_csv('income-data.csv')"
   ]
  },
  {
   "cell_type": "code",
   "execution_count": 3,
   "metadata": {},
   "outputs": [],
   "source": [
    "X, y = data.drop(columns='IncomeLabel'), data.IncomeLabel"
   ]
  },
  {
   "cell_type": "code",
   "execution_count": 4,
   "metadata": {},
   "outputs": [],
   "source": [
    "Xtrain, Xtest, ytrain, ytest = train_test_split(X, y, \n",
    "                                                test_size=0.2, \n",
    "                                                random_state=20130810)"
   ]
  },
  {
   "cell_type": "code",
   "execution_count": 5,
   "metadata": {},
   "outputs": [],
   "source": [
    "data_train = Xtrain.assign(income=ytrain)"
   ]
  },
  {
   "cell_type": "code",
   "execution_count": 6,
   "metadata": {},
   "outputs": [],
   "source": [
    "AUTOML_SETTINGS = {\"time_budget\": 360,  # total running time in seconds\n",
    "                   \"metric\": 'f1',  \n",
    "                   \"estimator_list\": ['lgbm'],  \n",
    "                   \"task\": 'classification',  # task type    \n",
    "                   \"log_file_name\": 'openmldata.log',  # flaml log file\n",
    "                   \"seed\": 20130810,    # random seed\n",
    "                   \"verbose\": 1\n",
    "}"
   ]
  },
  {
   "cell_type": "code",
   "execution_count": 7,
   "metadata": {},
   "outputs": [],
   "source": [
    "ct = ColumnTransformer([('onehot', OneHotEncoder(handle_unknown='ignore'),\n",
    "                         make_column_selector(dtype_include=object))],\n",
    "                        remainder=\"passthrough\")"
   ]
  },
  {
   "cell_type": "code",
   "execution_count": 8,
   "metadata": {},
   "outputs": [],
   "source": [
    "X_train = ct.fit_transform(Xtrain)\n",
    "X_test = ct.transform(Xtest)"
   ]
  },
  {
   "cell_type": "code",
   "execution_count": 9,
   "metadata": {},
   "outputs": [],
   "source": [
    "learner_automl = AutoML()"
   ]
  },
  {
   "cell_type": "code",
   "execution_count": 10,
   "metadata": {},
   "outputs": [],
   "source": [
    "learner_automl.fit(X_train.toarray(), ytrain, **AUTOML_SETTINGS)"
   ]
  },
  {
   "cell_type": "code",
   "execution_count": 11,
   "metadata": {},
   "outputs": [
    {
     "name": "stdout",
     "output_type": "stream",
     "text": [
      "              precision    recall  f1-score   support\n",
      "\n",
      "           0       0.90      0.91      0.90      4976\n",
      "           1       0.70      0.66      0.68      1537\n",
      "\n",
      "    accuracy                           0.85      6513\n",
      "   macro avg       0.80      0.79      0.79      6513\n",
      "weighted avg       0.85      0.85      0.85      6513\n",
      "\n"
     ]
    }
   ],
   "source": [
    "print(classification_report(ytest, learner_automl.predict(X_test)))"
   ]
  },
  {
   "cell_type": "code",
   "execution_count": 15,
   "metadata": {},
   "outputs": [],
   "source": [
    "individual = (data.drop(columns='IncomeLabel')\n",
    "                  .loc[0, :]\n",
    "                  .to_dict())"
   ]
  },
  {
   "cell_type": "code",
   "execution_count": 32,
   "metadata": {},
   "outputs": [
    {
     "data": {
      "text/plain": [
       "{'Age': 39.0,\n",
       " 'Workclass': ' State-gov',\n",
       " 'Education-Num': 13.0,\n",
       " 'Marital Status': ' Never-married',\n",
       " 'Occupation': ' Adm-clerical',\n",
       " 'Relationship': ' Not-in-family',\n",
       " 'Race': ' White',\n",
       " 'Sex': ' Male',\n",
       " 'Capital Gain': 2174.0,\n",
       " 'Capital Loss': 0.0,\n",
       " 'Hours per week': 40.0,\n",
       " 'Country': ' United-States'}"
      ]
     },
     "execution_count": 32,
     "metadata": {},
     "output_type": "execute_result"
    }
   ],
   "source": [
    "individual"
   ]
  },
  {
   "cell_type": "code",
   "execution_count": 36,
   "metadata": {},
   "outputs": [],
   "source": [
    "def predict_single(individual, ct, model):\n",
    "    X = ct.transform(pd.DataFrame([individual]))\n",
    "    y_pred = model.predict_proba(X)[:, 1]\n",
    "    return y_pred[0]"
   ]
  },
  {
   "cell_type": "code",
   "execution_count": 37,
   "metadata": {},
   "outputs": [
    {
     "data": {
      "text/plain": [
       "0.11004927517910677"
      ]
     },
     "execution_count": 37,
     "metadata": {},
     "output_type": "execute_result"
    }
   ],
   "source": [
    "predict_single(individual, ct, learner_automl)"
   ]
  },
  {
   "cell_type": "code",
   "execution_count": 13,
   "metadata": {},
   "outputs": [],
   "source": [
    "with open('income-prediction-model.bin', 'wb') as f_out:\n",
    "    pickle.dump((ct, learner_automl), f_out)"
   ]
  }
 ],
 "metadata": {
  "kernelspec": {
   "display_name": "Python 3.9.7 ('aimlclasses')",
   "language": "python",
   "name": "python3"
  },
  "language_info": {
   "codemirror_mode": {
    "name": "ipython",
    "version": 3
   },
   "file_extension": ".py",
   "mimetype": "text/x-python",
   "name": "python",
   "nbconvert_exporter": "python",
   "pygments_lexer": "ipython3",
   "version": "3.9.7"
  },
  "orig_nbformat": 4,
  "vscode": {
   "interpreter": {
    "hash": "3c1e73e333da691d1541ae9459c12b06f935e3cff125444867bb111cd49f9379"
   }
  }
 },
 "nbformat": 4,
 "nbformat_minor": 2
}
