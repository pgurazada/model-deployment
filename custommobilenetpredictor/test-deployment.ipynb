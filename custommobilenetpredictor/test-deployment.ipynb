{
 "cells": [
  {
   "cell_type": "markdown",
   "metadata": {},
   "source": [
    "Adapted from: https://github.com/jrosebr1/simple-keras-rest-api"
   ]
  },
  {
   "cell_type": "code",
   "execution_count": 2,
   "metadata": {},
   "outputs": [],
   "source": [
    "import requests"
   ]
  },
  {
   "cell_type": "code",
   "execution_count": 3,
   "metadata": {},
   "outputs": [],
   "source": [
    "# initialize the Keras REST API endpoint URL along with the input\n",
    "# image path\n",
    "REST_API_URL = \"http://localhost:5000/predict\"\n",
    "IMAGE_PATH = \"test-image.png\""
   ]
  },
  {
   "cell_type": "code",
   "execution_count": 4,
   "metadata": {},
   "outputs": [],
   "source": [
    "# load the input image and construct the payload for the request\n",
    "image = open(IMAGE_PATH, \"rb\").read()\n",
    "payload = {\"image\": image}"
   ]
  },
  {
   "cell_type": "code",
   "execution_count": 5,
   "metadata": {},
   "outputs": [],
   "source": [
    "# submit the request\n",
    "r = requests.post(REST_API_URL, files=payload).json()"
   ]
  },
  {
   "cell_type": "code",
   "execution_count": 6,
   "metadata": {},
   "outputs": [
    {
     "name": "stdout",
     "output_type": "stream",
     "text": [
      "predicted class is: vi\n",
      "estimated probability is: 0.27884426712989807\n"
     ]
    }
   ],
   "source": [
    "# ensure the request was sucessful\n",
    "if r[\"success\"]:\n",
    "\t# loop over the predictions and display them\n",
    "\tfor (i, result) in enumerate(r[\"predictions\"]):\n",
    "\t\tlabel = result[\"label\"]\n",
    "\t\tprob = result['probability']\n",
    "\t\t\n",
    "\t\tprint(f\"predicted class is: {label}\")\n",
    "\t\tprint(f\"estimated probability is: {prob}\")\n",
    "\n",
    "# otherwise, the request failed\n",
    "else:\n",
    "\tprint(\"Request failed\")"
   ]
  }
 ],
 "metadata": {
  "kernelspec": {
   "display_name": "Python 3.9.7 ('aimlclasses')",
   "language": "python",
   "name": "python3"
  },
  "language_info": {
   "codemirror_mode": {
    "name": "ipython",
    "version": 3
   },
   "file_extension": ".py",
   "mimetype": "text/x-python",
   "name": "python",
   "nbconvert_exporter": "python",
   "pygments_lexer": "ipython3",
   "version": "3.9.7"
  },
  "orig_nbformat": 4,
  "vscode": {
   "interpreter": {
    "hash": "3c1e73e333da691d1541ae9459c12b06f935e3cff125444867bb111cd49f9379"
   }
  }
 },
 "nbformat": 4,
 "nbformat_minor": 2
}
